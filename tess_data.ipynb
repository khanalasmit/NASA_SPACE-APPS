{
 "cells": [
  {
   "cell_type": "code",
   "execution_count": 29,
   "id": "7354eaa5",
   "metadata": {},
   "outputs": [],
   "source": [
    "import pandas as pd\n",
    "import numpy as np"
   ]
  },
  {
   "cell_type": "code",
   "execution_count": 30,
   "id": "504c4e5f",
   "metadata": {},
   "outputs": [],
   "source": [
    "toi_df=pd.read_csv('C:/Users/Acer/OneDrive/Documents/NASA_SPACE APPS/data/TOI_2025.10.01_04.13.59.csv')"
   ]
  },
  {
   "cell_type": "code",
   "execution_count": 31,
   "id": "fe92a58b",
   "metadata": {},
   "outputs": [
    {
     "name": "stdout",
     "output_type": "stream",
     "text": [
      "<class 'pandas.core.frame.DataFrame'>\n",
      "RangeIndex: 7699 entries, 0 to 7698\n",
      "Data columns (total 66 columns):\n",
      " #   Column           Non-Null Count  Dtype  \n",
      "---  ------           --------------  -----  \n",
      " 0   loc_rowid        7699 non-null   int64  \n",
      " 1   toi              7699 non-null   float64\n",
      " 2   tid              7699 non-null   int64  \n",
      " 3   tfopwg_disp      7699 non-null   object \n",
      " 4   rastr            7699 non-null   object \n",
      " 5   ra               7699 non-null   float64\n",
      " 6   decstr           7699 non-null   object \n",
      " 7   dec              7699 non-null   float64\n",
      " 8   st_pmra          7565 non-null   float64\n",
      " 9   st_pmraerr1      7565 non-null   float64\n",
      " 10  st_pmraerr2      7565 non-null   float64\n",
      " 11  st_pmralim       7565 non-null   float64\n",
      " 12  st_pmdec         7565 non-null   float64\n",
      " 13  st_pmdecerr1     7565 non-null   float64\n",
      " 14  st_pmdecerr2     7565 non-null   float64\n",
      " 15  st_pmdeclim      7565 non-null   float64\n",
      " 16  pl_tranmid       7699 non-null   float64\n",
      " 17  pl_tranmiderr1   7688 non-null   float64\n",
      " 18  pl_tranmiderr2   7688 non-null   float64\n",
      " 19  pl_tranmidlim    7699 non-null   int64  \n",
      " 20  pl_orbper        7592 non-null   float64\n",
      " 21  pl_orbpererr1    7568 non-null   float64\n",
      " 22  pl_orbpererr2    7568 non-null   float64\n",
      " 23  pl_orbperlim     7699 non-null   int64  \n",
      " 24  pl_trandurh      7699 non-null   float64\n",
      " 25  pl_trandurherr1  7686 non-null   float64\n",
      " 26  pl_trandurherr2  7686 non-null   float64\n",
      " 27  pl_trandurhlim   7699 non-null   int64  \n",
      " 28  pl_trandep       7699 non-null   float64\n",
      " 29  pl_trandeperr1   7693 non-null   float64\n",
      " 30  pl_trandeperr2   7693 non-null   float64\n",
      " 31  pl_trandeplim    7699 non-null   int64  \n",
      " 32  pl_rade          7193 non-null   float64\n",
      " 33  pl_radeerr1      6076 non-null   float64\n",
      " 34  pl_radeerr2      6076 non-null   float64\n",
      " 35  pl_radelim       7699 non-null   int64  \n",
      " 36  pl_insol         7523 non-null   float64\n",
      " 37  pl_insolerr1     0 non-null      float64\n",
      " 38  pl_insolerr2     0 non-null      float64\n",
      " 39  pl_insollim      0 non-null      float64\n",
      " 40  pl_eqt           7388 non-null   float64\n",
      " 41  pl_eqterr1       0 non-null      float64\n",
      " 42  pl_eqterr2       0 non-null      float64\n",
      " 43  pl_eqtlim        0 non-null      float64\n",
      " 44  st_tmag          7699 non-null   float64\n",
      " 45  st_tmagerr1      7699 non-null   float64\n",
      " 46  st_tmagerr2      7699 non-null   float64\n",
      " 47  st_tmaglim       7699 non-null   int64  \n",
      " 48  st_dist          7484 non-null   float64\n",
      " 49  st_disterr1      6992 non-null   float64\n",
      " 50  st_disterr2      6992 non-null   float64\n",
      " 51  st_distlim       7699 non-null   int64  \n",
      " 52  st_teff          7538 non-null   float64\n",
      " 53  st_tefferr1      7225 non-null   float64\n",
      " 54  st_tefferr2      7225 non-null   float64\n",
      " 55  st_tefflim       7699 non-null   int64  \n",
      " 56  st_logg          6843 non-null   float64\n",
      " 57  st_loggerr1      5429 non-null   float64\n",
      " 58  st_loggerr2      5429 non-null   float64\n",
      " 59  st_logglim       7699 non-null   int64  \n",
      " 60  st_rad           7192 non-null   float64\n",
      " 61  st_raderr1       5737 non-null   float64\n",
      " 62  st_raderr2       5737 non-null   float64\n",
      " 63  st_radlim        7699 non-null   int64  \n",
      " 64  toi_created      7699 non-null   object \n",
      " 65  rowupdate        7699 non-null   object \n",
      "dtypes: float64(49), int64(12), object(5)\n",
      "memory usage: 3.9+ MB\n"
     ]
    }
   ],
   "source": [
    "toi_df.info()"
   ]
  },
  {
   "cell_type": "code",
   "execution_count": 32,
   "id": "21604be9",
   "metadata": {},
   "outputs": [],
   "source": [
    "import numpy as np\n",
    "import pandas as pd\n",
    "\n",
    "# Assume toi_df is your TOI DataFrame\n",
    "tess_to_koi = pd.DataFrame()\n",
    "\n",
    "# Direct mappings\n",
    "tess_to_koi[\"koi_period\"] = toi_df[\"pl_orbper\"]\n",
    "tess_to_koi[\"koi_duration\"] = toi_df[\"pl_trandurh\"]\n",
    "tess_to_koi[\"koi_depth\"] = toi_df[\"pl_trandep\"]\n",
    "tess_to_koi[\"koi_prad\"] = toi_df[\"pl_rade\"]\n",
    "tess_to_koi[\"koi_steff\"] = toi_df[\"st_teff\"]\n",
    "tess_to_koi[\"koi_srad\"] = toi_df[\"st_rad\"]\n",
    "\n",
    "# Approximate SNR (transit depth / average error)\n",
    "depth_err = (toi_df[\"pl_trandeperr1\"].abs() + toi_df[\"pl_trandeperr2\"].abs()) / 2\n",
    "tess_to_koi[\"koi_model_snr\"] = toi_df[\"pl_trandep\"] / depth_err.replace(0, np.nan)\n",
    "\n",
    "# Map disposition\n",
    "tess_to_koi[\"koi_disposition\"] = toi_df[\"tfopwg_disp\"]\n"
   ]
  },
  {
   "cell_type": "code",
   "execution_count": 33,
   "id": "a18d2c76",
   "metadata": {},
   "outputs": [
    {
     "name": "stdout",
     "output_type": "stream",
     "text": [
      "<class 'pandas.core.frame.DataFrame'>\n",
      "RangeIndex: 7699 entries, 0 to 7698\n",
      "Data columns (total 8 columns):\n",
      " #   Column           Non-Null Count  Dtype  \n",
      "---  ------           --------------  -----  \n",
      " 0   koi_period       7592 non-null   float64\n",
      " 1   koi_duration     7699 non-null   float64\n",
      " 2   koi_depth        7699 non-null   float64\n",
      " 3   koi_prad         7193 non-null   float64\n",
      " 4   koi_steff        7538 non-null   float64\n",
      " 5   koi_srad         7192 non-null   float64\n",
      " 6   koi_model_snr    7693 non-null   float64\n",
      " 7   koi_disposition  7699 non-null   object \n",
      "dtypes: float64(7), object(1)\n",
      "memory usage: 481.3+ KB\n"
     ]
    }
   ],
   "source": [
    "tess_to_koi.info()"
   ]
  },
  {
   "cell_type": "code",
   "execution_count": 34,
   "id": "8beb9caf",
   "metadata": {},
   "outputs": [
    {
     "data": {
      "text/plain": [
       "array(['FP', 'PC', 'KP', 'APC', 'FA', 'CP'], dtype=object)"
      ]
     },
     "execution_count": 34,
     "metadata": {},
     "output_type": "execute_result"
    }
   ],
   "source": [
    "tess_to_koi['koi_disposition'].unique()"
   ]
  },
  {
   "cell_type": "code",
   "execution_count": 35,
   "id": "4b44a138",
   "metadata": {},
   "outputs": [],
   "source": [
    "mapping={\n",
    "    'FP':1,\n",
    "    'FA':1,\n",
    "    'APC':0,\n",
    "    'KP':0,\n",
    "    'CP':0,\n",
    "    'PC':0\n",
    "}"
   ]
  },
  {
   "cell_type": "code",
   "execution_count": 36,
   "id": "38a5660d",
   "metadata": {},
   "outputs": [],
   "source": [
    "# also works - map on the column itself\n",
    "tess_to_koi['koi_disposition'] = tess_to_koi['koi_disposition'].map(mapping)"
   ]
  },
  {
   "cell_type": "code",
   "execution_count": 37,
   "id": "3f5dd97f",
   "metadata": {},
   "outputs": [],
   "source": [
    "tess_to_koi.to_csv('testing_tess.csv',index=False)"
   ]
  },
  {
   "cell_type": "code",
   "execution_count": null,
   "id": "3d99e849",
   "metadata": {},
   "outputs": [],
   "source": []
  }
 ],
 "metadata": {
  "kernelspec": {
   "display_name": "Python 3",
   "language": "python",
   "name": "python3"
  },
  "language_info": {
   "codemirror_mode": {
    "name": "ipython",
    "version": 3
   },
   "file_extension": ".py",
   "mimetype": "text/x-python",
   "name": "python",
   "nbconvert_exporter": "python",
   "pygments_lexer": "ipython3",
   "version": "3.12.4"
  }
 },
 "nbformat": 4,
 "nbformat_minor": 5
}

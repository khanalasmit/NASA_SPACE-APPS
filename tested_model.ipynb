{
 "cells": [
  {
   "cell_type": "code",
   "execution_count": 2,
   "id": "0b054dfc",
   "metadata": {},
   "outputs": [
    {
     "name": "stdout",
     "output_type": "stream",
     "text": [
      "<class 'pandas.core.frame.DataFrame'>\n",
      "RangeIndex: 9565 entries, 0 to 9564\n",
      "Data columns (total 11 columns):\n",
      " #   Column    Non-Null Count  Dtype  \n",
      "---  ------    --------------  -----  \n",
      " 0   period    9565 non-null   float64\n",
      " 1   duration  9565 non-null   float64\n",
      " 2   depth     9565 non-null   float64\n",
      " 3   radius    9565 non-null   float64\n",
      " 4   insol     9565 non-null   float64\n",
      " 5   teq       9565 non-null   float64\n",
      " 6   teff      9565 non-null   float64\n",
      " 7   srad      9565 non-null   float64\n",
      " 8   logg      9565 non-null   float64\n",
      " 9   mag       9565 non-null   float64\n",
      " 10  label     9565 non-null   int64  \n",
      "dtypes: float64(10), int64(1)\n",
      "memory usage: 822.1 KB\n",
      "[0 1]\n"
     ]
    },
    {
     "name": "stderr",
     "output_type": "stream",
     "text": [
      "C:\\Users\\Acer\\AppData\\Roaming\\Python\\Python312\\site-packages\\xgboost\\training.py:183: UserWarning: [21:59:41] WARNING: C:\\actions-runner\\_work\\xgboost\\xgboost\\src\\learner.cc:738: \n",
      "Parameters: { \"use_label_encoder\" } are not used.\n",
      "\n",
      "  bst.update(dtrain, iteration=i, fobj=obj)\n",
      "C:\\Users\\Acer\\AppData\\Roaming\\Python\\Python312\\site-packages\\xgboost\\training.py:183: UserWarning: [21:59:42] WARNING: C:\\actions-runner\\_work\\xgboost\\xgboost\\src\\learner.cc:738: \n",
      "Parameters: { \"use_label_encoder\" } are not used.\n",
      "\n",
      "  bst.update(dtrain, iteration=i, fobj=obj)\n"
     ]
    },
    {
     "name": "stdout",
     "output_type": "stream",
     "text": [
      "[LightGBM] [Info] Number of positive: 2541, number of negative: 3580\n",
      "[LightGBM] [Info] Auto-choosing col-wise multi-threading, the overhead of testing was 0.000363 seconds.\n",
      "You can set `force_col_wise=true` to remove the overhead.\n",
      "[LightGBM] [Info] Total Bins 2550\n",
      "[LightGBM] [Info] Number of data points in the train set: 6121, number of used features: 10\n",
      "[LightGBM] [Info] [binary:BoostFromScore]: pavg=0.415128 -> initscore=-0.342805\n",
      "[LightGBM] [Info] Start training from score -0.342805\n"
     ]
    },
    {
     "name": "stderr",
     "output_type": "stream",
     "text": [
      "C:\\Users\\Acer\\AppData\\Roaming\\Python\\Python312\\site-packages\\sklearn\\utils\\validation.py:2739: UserWarning: X does not have valid feature names, but LGBMClassifier was fitted with feature names\n",
      "  warnings.warn(\n"
     ]
    },
    {
     "name": "stdout",
     "output_type": "stream",
     "text": [
      "[LightGBM] [Info] Number of positive: 2540, number of negative: 3581\n",
      "[LightGBM] [Info] Auto-choosing col-wise multi-threading, the overhead of testing was 0.000178 seconds.\n",
      "You can set `force_col_wise=true` to remove the overhead.\n",
      "[LightGBM] [Info] Total Bins 2550\n",
      "[LightGBM] [Info] Number of data points in the train set: 6121, number of used features: 10\n",
      "[LightGBM] [Info] [binary:BoostFromScore]: pavg=0.414965 -> initscore=-0.343478\n",
      "[LightGBM] [Info] Start training from score -0.343478\n"
     ]
    },
    {
     "name": "stderr",
     "output_type": "stream",
     "text": [
      "C:\\Users\\Acer\\AppData\\Roaming\\Python\\Python312\\site-packages\\sklearn\\utils\\validation.py:2739: UserWarning: X does not have valid feature names, but LGBMClassifier was fitted with feature names\n",
      "  warnings.warn(\n"
     ]
    },
    {
     "name": "stdout",
     "output_type": "stream",
     "text": [
      "[LightGBM] [Info] Number of positive: 2541, number of negative: 3581\n",
      "[LightGBM] [Info] Auto-choosing col-wise multi-threading, the overhead of testing was 0.000198 seconds.\n",
      "You can set `force_col_wise=true` to remove the overhead.\n",
      "[LightGBM] [Info] Total Bins 2550\n",
      "[LightGBM] [Info] Number of data points in the train set: 6122, number of used features: 10\n",
      "[LightGBM] [Info] [binary:BoostFromScore]: pavg=0.415060 -> initscore=-0.343084\n",
      "[LightGBM] [Info] Start training from score -0.343084\n"
     ]
    },
    {
     "name": "stderr",
     "output_type": "stream",
     "text": [
      "C:\\Users\\Acer\\AppData\\Roaming\\Python\\Python312\\site-packages\\sklearn\\utils\\validation.py:2739: UserWarning: X does not have valid feature names, but LGBMClassifier was fitted with feature names\n",
      "  warnings.warn(\n"
     ]
    },
    {
     "name": "stdout",
     "output_type": "stream",
     "text": [
      "[LightGBM] [Info] Number of positive: 2541, number of negative: 3581\n",
      "[LightGBM] [Info] Auto-choosing col-wise multi-threading, the overhead of testing was 0.000215 seconds.\n",
      "You can set `force_col_wise=true` to remove the overhead.\n",
      "[LightGBM] [Info] Total Bins 2550\n",
      "[LightGBM] [Info] Number of data points in the train set: 6122, number of used features: 10\n",
      "[LightGBM] [Info] [binary:BoostFromScore]: pavg=0.415060 -> initscore=-0.343084\n",
      "[LightGBM] [Info] Start training from score -0.343084\n"
     ]
    },
    {
     "name": "stderr",
     "output_type": "stream",
     "text": [
      "C:\\Users\\Acer\\AppData\\Roaming\\Python\\Python312\\site-packages\\sklearn\\utils\\validation.py:2739: UserWarning: X does not have valid feature names, but LGBMClassifier was fitted with feature names\n",
      "  warnings.warn(\n"
     ]
    },
    {
     "name": "stdout",
     "output_type": "stream",
     "text": [
      "[LightGBM] [Info] Number of positive: 2541, number of negative: 3581\n",
      "[LightGBM] [Info] Auto-choosing col-wise multi-threading, the overhead of testing was 0.000256 seconds.\n",
      "You can set `force_col_wise=true` to remove the overhead.\n",
      "[LightGBM] [Info] Total Bins 2550\n",
      "[LightGBM] [Info] Number of data points in the train set: 6122, number of used features: 10\n",
      "[LightGBM] [Info] [binary:BoostFromScore]: pavg=0.415060 -> initscore=-0.343084\n",
      "[LightGBM] [Info] Start training from score -0.343084\n"
     ]
    },
    {
     "name": "stderr",
     "output_type": "stream",
     "text": [
      "C:\\Users\\Acer\\AppData\\Roaming\\Python\\Python312\\site-packages\\sklearn\\utils\\validation.py:2739: UserWarning: X does not have valid feature names, but LGBMClassifier was fitted with feature names\n",
      "  warnings.warn(\n",
      "C:\\Users\\Acer\\AppData\\Roaming\\Python\\Python312\\site-packages\\xgboost\\training.py:183: UserWarning: [22:00:53] WARNING: C:\\actions-runner\\_work\\xgboost\\xgboost\\src\\learner.cc:738: \n",
      "Parameters: { \"use_label_encoder\" } are not used.\n",
      "\n",
      "  bst.update(dtrain, iteration=i, fobj=obj)\n"
     ]
    },
    {
     "name": "stdout",
     "output_type": "stream",
     "text": [
      "[LightGBM] [Info] Number of positive: 3176, number of negative: 4476\n",
      "[LightGBM] [Info] Auto-choosing col-wise multi-threading, the overhead of testing was 0.000188 seconds.\n",
      "You can set `force_col_wise=true` to remove the overhead.\n",
      "[LightGBM] [Info] Total Bins 2550\n",
      "[LightGBM] [Info] Number of data points in the train set: 7652, number of used features: 10\n",
      "[LightGBM] [Info] [binary:BoostFromScore]: pavg=0.415055 -> initscore=-0.343107\n",
      "[LightGBM] [Info] Start training from score -0.343107\n"
     ]
    },
    {
     "name": "stderr",
     "output_type": "stream",
     "text": [
      "C:\\Users\\Acer\\AppData\\Roaming\\Python\\Python312\\site-packages\\sklearn\\utils\\validation.py:2739: UserWarning: X does not have valid feature names, but LGBMClassifier was fitted with feature names\n",
      "  warnings.warn(\n",
      "C:\\Users\\Acer\\AppData\\Roaming\\Python\\Python312\\site-packages\\sklearn\\utils\\validation.py:2739: UserWarning: X does not have valid feature names, but LGBMClassifier was fitted with feature names\n",
      "  warnings.warn(\n"
     ]
    },
    {
     "data": {
      "text/plain": [
       "0.8703606900156822"
      ]
     },
     "execution_count": 2,
     "metadata": {},
     "output_type": "execute_result"
    }
   ],
   "source": [
    "# ...existing code...\n",
    "import numpy as np\n",
    "from sklearn.model_selection import StratifiedKFold\n",
    "from sklearn.base import BaseEstimator, ClassifierMixin, clone\n",
    "from sklearn.linear_model import LogisticRegression\n",
    "from sklearn.ensemble import RandomForestClassifier, GradientBoostingClassifier\n",
    "from xgboost import XGBClassifier\n",
    "from lightgbm import LGBMClassifier\n",
    "from sklearn.svm import SVC\n",
    "import pandas as pd\n",
    "from sklearn.model_selection import train_test_split\n",
    "from sklearn.metrics import accuracy_score,f1_score\n",
    "from sklearn.model_selection import cross_val_score\n",
    "from sklearn.preprocessing import LabelEncoder\n",
    "\n",
    "Kepler_data=pd.read_csv('Combined.csv')\n",
    "Kepler_data.info()\n",
    "X=Kepler_data.drop(columns=['label'])\n",
    "y=Kepler_data['label']\n",
    "le=LabelEncoder()\n",
    "le.fit(y)\n",
    "y_trf=le.transform(y)\n",
    "print(le.classes_)\n",
    "X_train,X_test,y_train,y_test=train_test_split(X,y_trf,test_size=0.2,random_state=42,stratify=y)\n",
    "\n",
    "class OOFStackingClassifier(BaseEstimator, ClassifierMixin):\n",
    "    \"\"\"\n",
    "    Out-Of-Fold stacking classifier that builds default base learners and a default meta-learner\n",
    "    if none are provided. Use base_models/meta_model kwargs to override.\n",
    "    \"\"\"\n",
    "    def __init__(self, base_models=None, meta_model=None, n_splits=5, random_state=42):\n",
    "        self.n_splits = n_splits\n",
    "        self.random_state = random_state\n",
    "\n",
    "        # default base learners\n",
    "        if base_models is None:\n",
    "            rf = RandomForestClassifier(bootstrap=True, criterion='gini', max_depth=None,\n",
    "                                        max_samples=0.8, min_samples_leaf=1, n_estimators=500,\n",
    "                                        oob_score=True, random_state=self.random_state)\n",
    "            xgb = XGBClassifier(n_estimators=200, max_depth=5, learning_rate=0.1,\n",
    "                                subsample=1, colsample_bytree=1,\n",
    "                                eval_metric='logloss', use_label_encoder=False, random_state=self.random_state)\n",
    "            gb = GradientBoostingClassifier(learning_rate=0.1, max_depth=3, n_estimators=500,\n",
    "                                            subsample=1, random_state=self.random_state)\n",
    "            lgb = LGBMClassifier(n_estimators=500, learning_rate=0.05,\n",
    "                                 subsample=0.8, colsample_bytree=0.8, random_state=self.random_state)\n",
    "            svc = SVC(C=2.0, kernel='rbf', probability=True, random_state=self.random_state)\n",
    "            base_models = [rf, xgb, gb, lgb, svc]\n",
    "\n",
    "        # default meta learner\n",
    "        if meta_model is None:\n",
    "            meta_model = RandomForestClassifier(n_estimators=200, max_depth=None, random_state=self.random_state)\n",
    "\n",
    "        self.base_models = base_models\n",
    "        self.meta_model = meta_model\n",
    "        self.fitted_base_models = []\n",
    "\n",
    "    def fit(self, X, y):\n",
    "        X = np.asarray(X)\n",
    "        y = np.asarray(y)\n",
    "        n_samples = X.shape[0]\n",
    "\n",
    "        skf = StratifiedKFold(n_splits=self.n_splits, shuffle=True, random_state=self.random_state)\n",
    "        oof_preds = np.zeros((n_samples, len(self.base_models)))\n",
    "\n",
    "        # Out-of-fold predictions for each base model\n",
    "        for i, model in enumerate(self.base_models):\n",
    "            oof = np.zeros(n_samples)\n",
    "            for train_idx, val_idx in skf.split(X, y):\n",
    "                mdl_clone = clone(model)\n",
    "                mdl_clone.fit(X[train_idx], y[train_idx])\n",
    "                # try predict_proba, fallback to decision_function, fallback to predict\n",
    "                if hasattr(mdl_clone, \"predict_proba\"):\n",
    "                    oof[val_idx] = mdl_clone.predict_proba(X[val_idx])[:, 1]\n",
    "                elif hasattr(mdl_clone, \"decision_function\"):\n",
    "                    # scale decision_function to [0,1] via sigmoid-like mapping\n",
    "                    df = mdl_clone.decision_function(X[val_idx])\n",
    "                    oof[val_idx] = 1 / (1 + np.exp(-df))\n",
    "                else:\n",
    "                    oof[val_idx] = mdl_clone.predict(X[val_idx])\n",
    "            oof_preds[:, i] = oof\n",
    "\n",
    "        # Train meta-model on OOF predictions\n",
    "        self.meta_model.fit(oof_preds, y)\n",
    "\n",
    "        # Retrain base models on full dataset and save them\n",
    "        self.fitted_base_models = [clone(m).fit(X, y) for m in self.base_models]\n",
    "\n",
    "        return self\n",
    "\n",
    "    def predict_proba(self, X):\n",
    "        X = np.asarray(X)\n",
    "        # build meta-features from fully trained base models\n",
    "        meta_features = np.column_stack([\n",
    "            (m.predict_proba(X)[:, 1] if hasattr(m, \"predict_proba\")\n",
    "             else (1 / (1 + np.exp(-m.decision_function(X)))) if hasattr(m, \"decision_function\")\n",
    "             else m.predict(X))\n",
    "            for m in self.fitted_base_models\n",
    "        ])\n",
    "        # return meta-model probabilities if available, else wrap single-column scores\n",
    "        if hasattr(self.meta_model, \"predict_proba\"):\n",
    "            return self.meta_model.predict_proba(meta_features)\n",
    "        else:\n",
    "            probs = self.meta_model.predict(meta_features)\n",
    "            # ensure shape (n_samples, 2)\n",
    "            probs = np.vstack([1 - probs, probs]).T\n",
    "            return probs\n",
    "\n",
    "    def predict(self, X):\n",
    "        probs = self.predict_proba(X)\n",
    "        # assume binary prob in column 1\n",
    "        return (probs[:, 1] > 0.5).astype(int)\n",
    "\n",
    "# Example usage (keeps previous notebook variables/flow)\n",
    "# ...existing code...\n",
    "stack_clf = OOFStackingClassifier(n_splits=5, random_state=42)   # uses defaults defined above\n",
    "stack_clf.fit(X_train, y_train)\n",
    "y_pred = stack_clf.predict(X_test)\n",
    "y_pred_proba = stack_clf.predict_proba(X_test)[:, 1]\n",
    "\n",
    "accuracy_score(y_test,y_pred)"
   ]
  },
  {
   "cell_type": "code",
   "execution_count": null,
   "id": "bd91ac2e",
   "metadata": {},
   "outputs": [],
   "source": []
  }
 ],
 "metadata": {
  "kernelspec": {
   "display_name": "Python 3",
   "language": "python",
   "name": "python3"
  },
  "language_info": {
   "codemirror_mode": {
    "name": "ipython",
    "version": 3
   },
   "file_extension": ".py",
   "mimetype": "text/x-python",
   "name": "python",
   "nbconvert_exporter": "python",
   "pygments_lexer": "ipython3",
   "version": "3.12.4"
  }
 },
 "nbformat": 4,
 "nbformat_minor": 5
}

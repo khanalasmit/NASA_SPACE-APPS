{
 "cells": [
  {
   "cell_type": "code",
   "execution_count": 8,
   "id": "e27b299e",
   "metadata": {},
   "outputs": [],
   "source": [
    "import pandas as pd\n",
    "import numpy as np\n",
    "import seaborn as sns"
   ]
  },
  {
   "cell_type": "code",
   "execution_count": 9,
   "id": "c216ab10",
   "metadata": {},
   "outputs": [],
   "source": [
    "koi_data=pd.read_csv('Training_data.csv')\n",
    "tess_data=pd.read_csv('testing_tess.csv')"
   ]
  },
  {
   "cell_type": "code",
   "execution_count": 10,
   "id": "9e6f26e1",
   "metadata": {},
   "outputs": [
    {
     "name": "stdout",
     "output_type": "stream",
     "text": [
      "<class 'pandas.core.frame.DataFrame'>\n",
      "RangeIndex: 7325 entries, 0 to 7324\n",
      "Data columns (total 11 columns):\n",
      " #   Column    Non-Null Count  Dtype  \n",
      "---  ------    --------------  -----  \n",
      " 0   period    7325 non-null   float64\n",
      " 1   duration  7325 non-null   float64\n",
      " 2   depth     7325 non-null   float64\n",
      " 3   radius    7325 non-null   float64\n",
      " 4   insol     7325 non-null   float64\n",
      " 5   teq       7325 non-null   float64\n",
      " 6   teff      7325 non-null   float64\n",
      " 7   srad      7325 non-null   float64\n",
      " 8   logg      7325 non-null   float64\n",
      " 9   mag       7325 non-null   float64\n",
      " 10  label     7325 non-null   int64  \n",
      "dtypes: float64(10), int64(1)\n",
      "memory usage: 629.6 KB\n"
     ]
    }
   ],
   "source": [
    "koi_data.info()"
   ]
  },
  {
   "cell_type": "code",
   "execution_count": null,
   "id": "8e12d4e7",
   "metadata": {},
   "outputs": [],
   "source": []
  },
  {
   "cell_type": "code",
   "execution_count": 11,
   "id": "ce8aba9b",
   "metadata": {},
   "outputs": [],
   "source": [
    "new_df=pd.concat([koi_data,tess_data],ignore_index=True)"
   ]
  },
  {
   "cell_type": "code",
   "execution_count": 12,
   "id": "80eadbea",
   "metadata": {},
   "outputs": [],
   "source": [
    "new_df.to_csv('Combined.csv',index=False)"
   ]
  },
  {
   "cell_type": "code",
   "execution_count": 13,
   "id": "742a842d",
   "metadata": {},
   "outputs": [
    {
     "data": {
      "text/plain": [
       "array([5595, 3970])"
      ]
     },
     "execution_count": 13,
     "metadata": {},
     "output_type": "execute_result"
    }
   ],
   "source": [
    "new_df['label'].value_counts().unique()"
   ]
  },
  {
   "cell_type": "code",
   "execution_count": null,
   "id": "aea19896",
   "metadata": {},
   "outputs": [],
   "source": []
  }
 ],
 "metadata": {
  "kernelspec": {
   "display_name": "Python 3",
   "language": "python",
   "name": "python3"
  },
  "language_info": {
   "codemirror_mode": {
    "name": "ipython",
    "version": 3
   },
   "file_extension": ".py",
   "mimetype": "text/x-python",
   "name": "python",
   "nbconvert_exporter": "python",
   "pygments_lexer": "ipython3",
   "version": "3.12.4"
  }
 },
 "nbformat": 4,
 "nbformat_minor": 5
}

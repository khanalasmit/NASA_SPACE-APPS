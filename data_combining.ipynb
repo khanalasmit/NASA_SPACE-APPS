{
 "cells": [
  {
   "cell_type": "code",
   "execution_count": 1,
   "id": "e27b299e",
   "metadata": {},
   "outputs": [],
   "source": [
    "import pandas as pd\n",
    "import numpy as np\n",
    "import seaborn as sns"
   ]
  },
  {
   "cell_type": "code",
   "execution_count": 2,
   "id": "c216ab10",
   "metadata": {},
   "outputs": [],
   "source": [
    "koi_data=pd.read_csv('Training_data.csv')\n",
    "tess_data=pd.read_csv('testing_tess.csv')"
   ]
  },
  {
   "cell_type": "code",
   "execution_count": 3,
   "id": "ce8aba9b",
   "metadata": {},
   "outputs": [],
   "source": [
    "new_df=pd.concat([koi_data,tess_data],ignore_index=True)"
   ]
  },
  {
   "cell_type": "code",
   "execution_count": 4,
   "id": "80eadbea",
   "metadata": {},
   "outputs": [],
   "source": [
    "new_df.to_csv('Combined.csv',index=False)"
   ]
  },
  {
   "cell_type": "code",
   "execution_count": 15,
   "id": "742a842d",
   "metadata": {},
   "outputs": [
    {
     "data": {
      "text/plain": [
       "array([5732, 3984])"
      ]
     },
     "execution_count": 15,
     "metadata": {},
     "output_type": "execute_result"
    }
   ],
   "source": [
    "new_df['koi_disposition'].value_counts().unique()"
   ]
  },
  {
   "cell_type": "code",
   "execution_count": null,
   "id": "aea19896",
   "metadata": {},
   "outputs": [],
   "source": []
  }
 ],
 "metadata": {
  "kernelspec": {
   "display_name": "Python 3",
   "language": "python",
   "name": "python3"
  },
  "language_info": {
   "codemirror_mode": {
    "name": "ipython",
    "version": 3
   },
   "file_extension": ".py",
   "mimetype": "text/x-python",
   "name": "python",
   "nbconvert_exporter": "python",
   "pygments_lexer": "ipython3",
   "version": "3.12.4"
  }
 },
 "nbformat": 4,
 "nbformat_minor": 5
}
